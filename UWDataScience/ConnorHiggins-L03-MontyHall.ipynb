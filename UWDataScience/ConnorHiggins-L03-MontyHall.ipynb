{
 "cells": [
  {
   "cell_type": "markdown",
   "metadata": {},
   "source": [
    "# Lesson 3 Assignment - Monty Hall Simulation\n",
    "## Author - Connor Higgins"
   ]
  },
  {
   "cell_type": "markdown",
   "metadata": {},
   "source": [
    "### Instructions\n",
    "Simulate the conditional probabilities of the distributions for winning a car vs. a goat for the Monty Hall Problem that includes the following:\n",
    "1. the cases of switching or not switching\n",
    "2. histograms and summary statistics (at least mean and variance) of the results for winning the car or a goat for both strategies, switching or not switching\n",
    "3. comparison of the cases to determine the best strategy\n",
    "4. recommended strategy\n",
    "\n",
    "#### Objective:\n",
    "\n",
    "Taylor from Marketing is headed to Burbank, California to visit family and jokes about having a strategy to win a car on a game show. You advocate for making a wise decision and sticking with it. But Taylor needs to see the proof in the data to be convinced.\n"
   ]
  },
  {
   "cell_type": "code",
   "execution_count": 2,
   "metadata": {
    "collapsed": true
   },
   "outputs": [],
   "source": [
    "# Import libraries\n",
    "from __future__ import division\n",
    "import numpy as np\n",
    "import pandas as pd\n",
    "import matplotlib.pyplot as plt\n",
    "import seaborn as sns\n",
    "sns.set()"
   ]
  },
  {
   "cell_type": "markdown",
   "metadata": {
    "collapsed": true
   },
   "source": [
    "### Task 1: Simulate First Door Pick for Contestant\n",
    "Regardless of which door the Car is placed behind, there will always be two doors with Goats behind them and one door with a Car behind it. By naming the doors GoatDoor1, GoatDoor2, and CarDoor, rather than Door A, Door B, and Door C, we can generalize to any MontyHall scenario."
   ]
  },
  {
   "cell_type": "code",
   "execution_count": 3,
   "metadata": {},
   "outputs": [
    {
     "data": {
      "text/plain": [
       "[('GoatDoor1', 3366), ('CarDoor', 3361), ('GoatDoor2', 3273)]"
      ]
     },
     "execution_count": 3,
     "metadata": {},
     "output_type": "execute_result"
    }
   ],
   "source": [
    "def Contestant1stDoorPick(n_contestants):\n",
    "    \n",
    "    \"\"\"Simulating 1st door pick based on an entirely random decision for n_contestants\"\"\"\n",
    "    \n",
    "    door_probas = [1/3, # GoatDoor1\n",
    "                   1/3, # CarDoor\n",
    "                   1/3] # GoatDoor2\n",
    "    \n",
    "    return list(zip(['GoatDoor1', 'CarDoor', 'GoatDoor2'], np.random.multinomial(n_contestants, door_probas)))\n",
    "\n",
    "Contestant1stDoorPick(10000) # Simulating 10,000 contestant decisions"
   ]
  },
  {
   "cell_type": "markdown",
   "metadata": {},
   "source": [
    "### Task 2: Simulate Monty's Door Pick after Contestant's First Door Pick\n",
    "After the contestant chooses a door, Monty must then open one of the other two remaining doors. As he cannot open the door with the car (CarDoor), he must choose a door with a goat (GoatDoor1 or GoatDoor2). \n",
    "\n",
    "#### 2.A. Simulating Monty's Door Pick if the Contestant Chooses a Goat Door\n",
    "If the Contestant initially chooses GoatDoor1 or GoatDoor2, Monty will be forced to open the other door with a goat. Therefore, a contestant choosing either Goat Door results in a deterministic response from Monty. "
   ]
  },
  {
   "cell_type": "code",
   "execution_count": 4,
   "metadata": {},
   "outputs": [
    {
     "name": "stdout",
     "output_type": "stream",
     "text": [
      "[('GoatDoor2', 3281)] [('GoatDoor1', 3362)]\n",
      "\n",
      " 10,000 Contestants Pick 3281 GoatDoor1's and 3362 GoatDoor2's\n",
      " Respectively, Monty Opens 3281 GoatDoor2's and 3362 GoatDoor1's\n"
     ]
    }
   ],
   "source": [
    "def ContestantGoatDoor1_MontyOpens(n_contestantsGoatDoor1):\n",
    "    \n",
    "    \"\"\"Simulating Monty's door pick for n_contestants choosing GoatDoor1\"\"\"\n",
    "    \n",
    "    door_probas = [1.0] # Monty must open GoatDoor2\n",
    "    \n",
    "    return list(zip(['GoatDoor2'], np.random.multinomial(n_contestantsGoatDoor1, door_probas)))\n",
    "\n",
    "def ContestantGoatDoor2_MontyOpens(n_contestantsGoatDoor1):\n",
    "    \n",
    "    \"\"\"Simulating Monty's door pick for n_contestants choosing GoatDoor2\"\"\"\n",
    "    \n",
    "    door_probas = [1.0] # Monty must open GoatDoor1\n",
    "    \n",
    "    return list(zip(['GoatDoor1'], np.random.multinomial(n_contestantsGoatDoor1, door_probas)))\n",
    "\n",
    "FirstDoorPicks = Contestant1stDoorPick(10000) # Simulating 10,000 contestant decisions\n",
    "n_contestantsGoatDoor1 = FirstDoorPicks[0][1] # Obtaining all GoatDoor1 Picks\n",
    "n_contestantsGoatDoor2 = FirstDoorPicks[2][1] # Obtaining all GoatDoor2 Picks\n",
    "\n",
    "# Obtaining Monty Opens for n_contestant GoatDoor1 picks\n",
    "GoatDoor1MontyOpens = ContestantGoatDoor1_MontyOpens(n_contestantsGoatDoor1) \n",
    "\n",
    "# Obtaining Monty Opens for n_contestant GoatDoor2 picks\n",
    "GoatDoor2MontyOpens = ContestantGoatDoor2_MontyOpens(n_contestantsGoatDoor2)\n",
    "\n",
    "print(GoatDoor1MontyOpens, GoatDoor2MontyOpens)\n",
    "print(\"\\n 10,000 Contestants Pick {} GoatDoor1's and {} GoatDoor2's\\n\".format(n_contestantsGoatDoor1, n_contestantsGoatDoor2),\n",
    "      \"Respectively, Monty Opens {} GoatDoor2's and {} GoatDoor1's\".format(GoatDoor1MontyOpens[0][1], GoatDoor2MontyOpens[0][1]))"
   ]
  },
  {
   "cell_type": "markdown",
   "metadata": {},
   "source": [
    "#### 2.B. Simulating Monty's Door Pick if the Contestant Chooses the Car Door\n",
    "If the Contestant initially chooses the CarDoor, Monty has the option of choosing to open either GoatDoor. As there is no benefit to choosing one GoatDoor over the other, we can presume Monty chooses a door at random."
   ]
  },
  {
   "cell_type": "code",
   "execution_count": 5,
   "metadata": {},
   "outputs": [
    {
     "name": "stdout",
     "output_type": "stream",
     "text": [
      "[('GoatDoor1', 1662), ('GoatDoor2', 1693)]\n",
      "\n",
      " 10,000 Contestants Pick 3355 CarDoor's\n",
      " As a result, Monty Opens 1662 GoatDoor1's and 1693 GoatDoor2's\n"
     ]
    }
   ],
   "source": [
    "def ContestantCarDoor_MontyOpens(n_contestantsCarDoor):\n",
    "    \n",
    "    \"\"\"Simulating Monty's door open for n_contestants choosing the CarDoor\"\"\"\n",
    "    \n",
    "    door_probas = [1/2, # GoatDoor1\n",
    "                   1/2] # GoatDoor2\n",
    "    \n",
    "    return list(zip(['GoatDoor1', 'GoatDoor2'], np.random.multinomial(n_contestantsCarDoor, door_probas)))\n",
    "\n",
    "\n",
    "FirstDoorPicks = Contestant1stDoorPick(10000) # Simulating 10,000 contestant decisions\n",
    "n_contestantsCarDoor = FirstDoorPicks[1][1] # Obtaining all CarDoor picks\n",
    "CarDoorMontyOpens = ContestantCarDoor_MontyOpens(n_contestantsCarDoor) # Obtaining MontyOpens for each GoatDoor\n",
    "\n",
    "CarDoorMontyOpensGoatDoor1 = CarDoorMontyOpens[0][1] # Obtaining total number of GoatDoor1's Monty Opens for 10,000 contestants\n",
    "CarDoorMontyOpensGoatDoor2 = CarDoorMontyOpens[1][1] # Obtaining total number of GoatDoor2's Monty Opens for 10,000 contestants\n",
    "\n",
    "print(CarDoorMontyOpens)\n",
    "print(\"\\n 10,000 Contestants Pick {} CarDoor's\\n\".format(n_contestantsCarDoor),\n",
    "      \"As a result, Monty Opens {} GoatDoor1's and {} GoatDoor2's\".format(CarDoorMontyOpensGoatDoor1, CarDoorMontyOpensGoatDoor2))"
   ]
  },
  {
   "cell_type": "markdown",
   "metadata": {},
   "source": [
    "### Task 3: Simulate Contestant Door Stay or Door Switch\n",
    "After Monty opens a door, the Contestant is then given the option of either staying with their current door or moving to a new door.\n",
    "\n",
    "#### 3.A. Contestants Stay with Original Door\n",
    "If Contestants stay with their original door, then there is no further step in calculations. The door that Monty opens is irrelevant to the outcome."
   ]
  },
  {
   "cell_type": "code",
   "execution_count": 6,
   "metadata": {},
   "outputs": [
    {
     "data": {
      "image/png": "[encoded data removed]",
      "text/plain": [
       "<matplotlib.figure.Figure at 0x28dab198b00>"
      ]
     },
     "metadata": {},
     "output_type": "display_data"
    },
    {
     "name": "stdout",
     "output_type": "stream",
     "text": [
      "GoatDoor1 picks: 3274, CarDoor picks: 3363, GoatDoor2 picks: 3363\n",
      "Experimental probability for winning Car: 0.3363\n",
      "Theoretical probability for winning Car: 0.3333333333333333\n"
     ]
    }
   ],
   "source": [
    "FirstDoorPicks = Contestant1stDoorPick(10000) # Simulating 10,000 contestant decisions\n",
    "\n",
    "DoorNames = (FirstDoorPicks[0][0], FirstDoorPicks[1][0], FirstDoorPicks[2][0]) # Obtaining Door Names\n",
    "y_pos = np.arange(len(DoorNames)) # Creating range that matches number of Doors\n",
    "NumberOfPicks = [FirstDoorPicks[0][1], FirstDoorPicks[1][1], FirstDoorPicks[2][1]] # Obtaining # of Picks per Door\n",
    "\n",
    "# plotting results for 10,000 Contestants if they all stay with their original door\n",
    "plt.bar(y_pos, NumberOfPicks, align='center', alpha=0.8) \n",
    "plt.xticks(y_pos, DoorNames)\n",
    "plt.ylabel('Amount')\n",
    "plt.title('Results when Contestant Stays with Original Door\\nfor 10,000 Contestants')\n",
    "plt.show()\n",
    "\n",
    "print('GoatDoor1 picks: {}, CarDoor picks: {}, GoatDoor2 picks: {}'.format(NumberOfPicks[0], NumberOfPicks[1], NumberOfPicks[2]))\n",
    "print('Experimental probability for winning Car: {}'.format(NumberOfPicks[1]/10000))\n",
    "print('Theoretical probability for winning Car: {}'.format(1/len(DoorNames)))"
   ]
  },
  {
   "cell_type": "markdown",
   "metadata": {},
   "source": [
    "#### 3.B. Contestants Switch to New Door\n",
    "If Contestants switch to a new door, there are varying results depending on whether they originally choose the CarDoor. All results, however, are deterministic, as Monty has already eliminated a door."
   ]
  },
  {
   "cell_type": "code",
   "execution_count": 7,
   "metadata": {},
   "outputs": [
    {
     "data": {
      "image/png": "[encoded data removed]",
      "text/plain": [
       "<matplotlib.figure.Figure at 0x28dab7c19e8>"
      ]
     },
     "metadata": {},
     "output_type": "display_data"
    },
    {
     "name": "stdout",
     "output_type": "stream",
     "text": [
      "GoatDoor1 picks: 1631, CarDoor picks: 6756, GoatDoor2 picks: 1613\n",
      "Experimental Probability of Winning a Car: 0.6756\n",
      "Theoretical Probability of Winning a Car 0.6666666666666666\n",
      "\n",
      "33.87% of Contestants switched from GoatDoor1 to the CarDoor\n",
      "33.69% of Contestants switched from GoatDoor2 to the CarDoor\n",
      "16.31% of Contestants switched from the CarDoor to GoatDoor1\n",
      "16.13% of Contestants switched from the CarDoor to GoatDoor2\n"
     ]
    }
   ],
   "source": [
    "### Switch Functions ###\n",
    "\n",
    "def ContestantGoatDoor1_MontyOpensGoatDoor2_Switch(n_contestantsGoatDoor1):\n",
    "    \n",
    "    \"\"\"Simulating Contestant's Door Open if they switch from GoatDoor1\"\"\"\n",
    "    \n",
    "    door_probas = [1.0] # Contestant must open CarDoor\n",
    "    \n",
    "    return list(zip(['CarDoor'], np.random.multinomial(n_contestantsGoatDoor1, door_probas)))\n",
    "\n",
    "def ContestantGoatDoor2_MontyOpensGoatDoor1_Switch(n_contestantsGoatDoor2):\n",
    "    \n",
    "    \"\"\"Simulating Contestant's Door Open if they switch from GoatDoor2\"\"\"\n",
    "    \n",
    "    door_probas = [1.0] # Contestant must open CarDoor\n",
    "    \n",
    "    return list(zip(['CarDoor'], np.random.multinomial(n_contestantsGoatDoor2, door_probas)))\n",
    "\n",
    "\n",
    "def ContestantCarDoor_MontyOpensGoatDoor1_Switch(CarDoorMontyOpensGoatDoor1):\n",
    "    \n",
    "    \"\"\"Simulating Contestant's Door Open if they switch from CarDoor and Monty Opens GoatDoor1\"\"\"\n",
    "    \n",
    "    door_probas = [1.0] # Contestant must open GoatDoor2\n",
    "    \n",
    "    return list(zip(['GoatDoor2'], np.random.multinomial(CarDoorMontyOpensGoatDoor1, door_probas)))\n",
    "\n",
    "\n",
    "def ContestantCarDoor_MontyOpensGoatDoor2_Switch(CarDoorMontyOpensGoatDoor2):\n",
    "    \n",
    "    \"\"\"Simulating Contestant's Door Open if they switch from CarDoor and Monty Opens GoatDoor2\"\"\"\n",
    "    \n",
    "    door_probas = [1.0] # Contestant must open GoatDoor1\n",
    "    \n",
    "    return list(zip(['GoatDoor1'], np.random.multinomial(CarDoorMontyOpensGoatDoor2, door_probas)))\n",
    "\n",
    "\n",
    "### Putting it all together ###\n",
    "\n",
    "FirstDoorPicks = Contestant1stDoorPick(10000) # Simulating 10,000 contestant decisions\n",
    "\n",
    "n_contestantsGoatDoor1 = FirstDoorPicks[0][1] # Obtaining all GoatDoor1 Picks\n",
    "n_contestantsCarDoor = FirstDoorPicks[1][1]   # Obtaining all CarDoor Picks\n",
    "n_contestantsGoatDoor2 = FirstDoorPicks[2][1] # Obtaining all GoatDoor2 Picks\n",
    "\n",
    "# Obtaining Monty Opens for n_contestant GoatDoor1 picks (not used)\n",
    "GoatDoor1MontyOpens = ContestantGoatDoor1_MontyOpens(n_contestantsGoatDoor1) \n",
    "# Obtaining Monty Opens for n_contestant GoatDoor2 picks (not used)\n",
    "GoatDoor2MontyOpens = ContestantGoatDoor2_MontyOpens(n_contestantsGoatDoor2)\n",
    "# Obtaining Monty Opens for n_contestant CarDoor picks (used)\n",
    "CarDoorMontyOpens = ContestantCarDoor_MontyOpens(n_contestantsCarDoor)\n",
    "\n",
    "CarDoorMontyOpensGoatDoor1 = CarDoorMontyOpens[0][1] # Obtaining total number of GoatDoor1's Monty Opens for 10,000 contestants\n",
    "CarDoorMontyOpensGoatDoor2 = CarDoorMontyOpens[1][1] # Obtaining total number of GoatDoor2's Monty Opens for 10,000 contestants\n",
    "\n",
    "# Obtaining all GoatDoor1 to CarDoor switches\n",
    "GoatDoor1toCarDoorSwitch = ContestantGoatDoor1_MontyOpensGoatDoor2_Switch(n_contestantsGoatDoor1)\n",
    "# Obtaining all GoatDoor2 to CarDoor switches\n",
    "GoatDoor2toCarDoorSwitch = ContestantGoatDoor2_MontyOpensGoatDoor1_Switch(n_contestantsGoatDoor2)\n",
    "\n",
    "# Obtaining all CarDoor to GoatDoor1 switches\n",
    "CarDoortoGoatDoor1Switch = ContestantCarDoor_MontyOpensGoatDoor2_Switch(CarDoorMontyOpensGoatDoor1)\n",
    "# Obtaining all CarDoor to GoatDoor2 switches\n",
    "CarDoortoGoatDoor2Switch = ContestantCarDoor_MontyOpensGoatDoor1_Switch(CarDoorMontyOpensGoatDoor2)\n",
    "\n",
    "# Obtaining all GoatDoor1 second door picks\n",
    "GoatDoor1_2nd_picks = CarDoortoGoatDoor1Switch[0][1]\n",
    "# Obtaining all CarDoor second door picks\n",
    "CarDoor_2nd_picks = GoatDoor1toCarDoorSwitch[0][1] + GoatDoor2toCarDoorSwitch[0][1] # adding switches from both GoatDoor1 and 2\n",
    "# Obtaining all GoatDoor2 second door picks\n",
    "GoatDoor2_2nd_picks = CarDoortoGoatDoor2Switch[0][1]\n",
    "\n",
    "# Creating a tuple list of second door picks\n",
    "SecondDoorPicks = list(zip(['GoatDoor1', 'CarDoor', 'GoatDoor2'],\n",
    "                           [GoatDoor1_2nd_picks, CarDoor_2nd_picks, GoatDoor2_2nd_picks]))\n",
    "\n",
    "\n",
    "DoorNames = (SecondDoorPicks[0][0], SecondDoorPicks[1][0], SecondDoorPicks[2][0]) # Obtaining Door Names\n",
    "y_pos = np.arange(len(DoorNames)) # Creating range that matches number of Doors\n",
    "NumberOfPicks = [SecondDoorPicks[0][1], SecondDoorPicks[1][1], SecondDoorPicks[2][1]] # Obtaining # of Picks per Door\n",
    "\n",
    "# plotting results for 10,000 Contestants if they all switch from their original door\n",
    "plt.bar(y_pos, NumberOfPicks, align='center', alpha=0.8) \n",
    "plt.xticks(y_pos, DoorNames)\n",
    "plt.ylabel('Amount')\n",
    "plt.title('Results when Contestants Switch from Original Door\\nfor 10,000 Contestants')\n",
    "plt.show()\n",
    "\n",
    "print('GoatDoor1 picks: {}, CarDoor picks: {}, GoatDoor2 picks: {}'.format(NumberOfPicks[0], NumberOfPicks[1], NumberOfPicks[2]))\n",
    "print('Experimental Probability of Winning a Car: {}'. format(NumberOfPicks[1]/10000))\n",
    "print('Theoretical Probability of Winning a Car {}'. format(2/3))\n",
    "\n",
    "print('\\n{}% of Contestants switched from GoatDoor1 to the CarDoor'.format(GoatDoor1toCarDoorSwitch[0][1]/100))\n",
    "print('{}% of Contestants switched from GoatDoor2 to the CarDoor'.format(GoatDoor2toCarDoorSwitch[0][1]/100))\n",
    "print('{}% of Contestants switched from the CarDoor to GoatDoor1'.format(CarDoortoGoatDoor1Switch[0][1]/100))\n",
    "print('{}% of Contestants switched from the CarDoor to GoatDoor2'.format(CarDoortoGoatDoor2Switch[0][1]/100))"
   ]
  },
  {
   "cell_type": "markdown",
   "metadata": {
    "collapsed": true
   },
   "source": [
    "### Closing\n",
    "From our simulation with 10,000 contestants, it is rather apparent that the winning option is to switch, as this will double a contestant's chance of winning a car. However, we can continue testing this with multiple realizations, allowing us to create distribtuions plots.\n",
    "\n",
    "#### Creating a MontyHall function"
   ]
  },
  {
   "cell_type": "code",
   "execution_count": 8,
   "metadata": {
    "scrolled": true
   },
   "outputs": [
    {
     "data": {
      "text/plain": [
       "{'GoatCar_Stay_Probas': (0.57000000000000006, 0.42999999999999999),\n",
       " 'GoatCar_Switch_Probas': (0.43000000000000005, 0.56999999999999995),\n",
       " 'StayResults': [('GoatDoor1', 31), ('CarDoor', 43), ('GoatDoor2', 26)],\n",
       " 'SwitchResults': [('GoatDoor1', 23), ('CarDoor', 57), ('GoatDoor2', 20)]}"
      ]
     },
     "execution_count": 8,
     "metadata": {},
     "output_type": "execute_result"
    }
   ],
   "source": [
    "def MontyHall(n_contestants):\n",
    "    \n",
    "    \"\"\"Simulates the results of n_contestants playing the MontyHall game,\n",
    "        both switching from and staying with their original doors\"\"\"\n",
    "    \n",
    "    FirstDoorPicks = Contestant1stDoorPick(n_contestants)\n",
    "\n",
    "    n_contestantsGoatDoor1 = FirstDoorPicks[0][1] # GoatDoor1 Picked\n",
    "    n_contestantsCarDoor = FirstDoorPicks[1][1]   # CarDoor Picked\n",
    "    n_contestantsGoatDoor2 = FirstDoorPicks[2][1] # GoatDoor2 Picked\n",
    "\n",
    "    CarDoorMontyOpens = ContestantCarDoor_MontyOpens(n_contestantsCarDoor) # Monty Opens GoatDoor when CarDoor picked\n",
    "\n",
    "    CarDoorMontyOpensGoatDoor1 = CarDoorMontyOpens[0][1] # Monty Opens GoatDoor1\n",
    "    CarDoorMontyOpensGoatDoor2 = CarDoorMontyOpens[1][1] # Monty Opens GoatDoor2\n",
    "\n",
    "    GoatDoor1toCarDoorSwitch = ContestantGoatDoor1_MontyOpensGoatDoor2_Switch(n_contestantsGoatDoor1) # GoatDoor1 to CarDoor switches\n",
    "    GoatDoor2toCarDoorSwitch = ContestantGoatDoor2_MontyOpensGoatDoor1_Switch(n_contestantsGoatDoor2) # GoatDoor2 to CarDoor switches\n",
    "\n",
    "    CarDoortoGoatDoor1Switch = ContestantCarDoor_MontyOpensGoatDoor2_Switch(CarDoorMontyOpensGoatDoor1) # CarDoor to GoatDoor1 switches\n",
    "    CarDoortoGoatDoor2Switch = ContestantCarDoor_MontyOpensGoatDoor1_Switch(CarDoorMontyOpensGoatDoor2) # CarDoor to GoatDoor2 switches\n",
    "    \n",
    "    GoatDoor1_2nd_picks = CarDoortoGoatDoor1Switch[0][1] # GoatDoor1 opened\n",
    "    CarDoor_2nd_picks = GoatDoor1toCarDoorSwitch[0][1] + GoatDoor2toCarDoorSwitch[0][1] # CarDoor opened\n",
    "    GoatDoor2_2nd_picks = CarDoortoGoatDoor2Switch[0][1] # GoatDoor2 opened\n",
    "\n",
    "    SecondDoorPicks = list(zip(['GoatDoor1', 'CarDoor', 'GoatDoor2'], # Tuple list of second door picks\n",
    "                               [GoatDoor1_2nd_picks, CarDoor_2nd_picks, GoatDoor2_2nd_picks]))\n",
    "    \n",
    "    # DataFrame of Stay and Switch Results\n",
    "    df =  pd.DataFrame(data={'StayResults' : FirstDoorPicks, 'SwitchResults' : SecondDoorPicks})\n",
    "    \n",
    "    # Stay Probas\n",
    "    stay_goat_proba = (df['StayResults'][0][1] / n_contestants) + (df['StayResults'][2][1]/ n_contestants) # probability for goat\n",
    "    stay_car_proba = df['StayResults'][1][1] / n_contestants # probability for winning car\n",
    "    \n",
    "     # Switch Probas\n",
    "    switch_goat_proba = (df['SwitchResults'][0][1] / n_contestants) + (df['SwitchResults'][2][1]/ n_contestants) \n",
    "    switch_car_proba = df['SwitchResults'][1][1] / n_contestants \n",
    "\n",
    "    GoatCar_Stay_Probas = stay_goat_proba, stay_car_proba # List of Stay Probas\n",
    "    GoatCar_Switch_Probas = switch_goat_proba, switch_car_proba # List of Switch Probas\n",
    "    \n",
    "    \n",
    "    return {'StayResults' : FirstDoorPicks, 'SwitchResults' : SecondDoorPicks,\n",
    "            'GoatCar_Stay_Probas' : GoatCar_Stay_Probas, 'GoatCar_Switch_Probas' : GoatCar_Switch_Probas}\n",
    "\n",
    "MontyHall(100)"
   ]
  },
  {
   "cell_type": "markdown",
   "metadata": {},
   "source": [
    "#### Creating 10,000 realizations of 1000 Monty Hall Contestants"
   ]
  },
  {
   "cell_type": "code",
   "execution_count": 9,
   "metadata": {},
   "outputs": [
    {
     "data": {
      "text/html": [
       "<div>\n",
       "<style>\n",
       "    .dataframe thead tr:only-child th {\n",
       "        text-align: right;\n",
       "    }\n",
       "\n",
       "    .dataframe thead th {\n",
       "        text-align: left;\n",
       "    }\n",
       "\n",
       "    .dataframe tbody tr th {\n",
       "        vertical-align: top;\n",
       "    }\n",
       "</style>\n",
       "<table border=\"1\" class=\"dataframe\">\n",
       "  <thead>\n",
       "    <tr style=\"text-align: right;\">\n",
       "      <th></th>\n",
       "      <th>Stay_Car_Num</th>\n",
       "      <th>Stay_Car_Proba</th>\n",
       "      <th>Stay_Goat_Num</th>\n",
       "      <th>Stay_Goat_Proba</th>\n",
       "      <th>Switch_Car_Num</th>\n",
       "      <th>Switch_Goat_Num</th>\n",
       "      <th>Switch_Goat_Proba</th>\n",
       "      <th>Swtich_Car_Proba</th>\n",
       "    </tr>\n",
       "  </thead>\n",
       "  <tbody>\n",
       "    <tr>\n",
       "      <th>0</th>\n",
       "      <td>300</td>\n",
       "      <td>0.300</td>\n",
       "      <td>700</td>\n",
       "      <td>0.700</td>\n",
       "      <td>700</td>\n",
       "      <td>300</td>\n",
       "      <td>0.300</td>\n",
       "      <td>0.700</td>\n",
       "    </tr>\n",
       "    <tr>\n",
       "      <th>1</th>\n",
       "      <td>346</td>\n",
       "      <td>0.346</td>\n",
       "      <td>654</td>\n",
       "      <td>0.654</td>\n",
       "      <td>654</td>\n",
       "      <td>346</td>\n",
       "      <td>0.346</td>\n",
       "      <td>0.654</td>\n",
       "    </tr>\n",
       "    <tr>\n",
       "      <th>2</th>\n",
       "      <td>348</td>\n",
       "      <td>0.348</td>\n",
       "      <td>652</td>\n",
       "      <td>0.652</td>\n",
       "      <td>652</td>\n",
       "      <td>348</td>\n",
       "      <td>0.348</td>\n",
       "      <td>0.652</td>\n",
       "    </tr>\n",
       "    <tr>\n",
       "      <th>3</th>\n",
       "      <td>323</td>\n",
       "      <td>0.323</td>\n",
       "      <td>677</td>\n",
       "      <td>0.677</td>\n",
       "      <td>677</td>\n",
       "      <td>323</td>\n",
       "      <td>0.323</td>\n",
       "      <td>0.677</td>\n",
       "    </tr>\n",
       "    <tr>\n",
       "      <th>4</th>\n",
       "      <td>348</td>\n",
       "      <td>0.348</td>\n",
       "      <td>652</td>\n",
       "      <td>0.652</td>\n",
       "      <td>652</td>\n",
       "      <td>348</td>\n",
       "      <td>0.348</td>\n",
       "      <td>0.652</td>\n",
       "    </tr>\n",
       "  </tbody>\n",
       "</table>\n",
       "</div>"
      ],
      "text/plain": [
       "   Stay_Car_Num  Stay_Car_Proba  Stay_Goat_Num  Stay_Goat_Proba  \\\n",
       "0           300           0.300            700            0.700   \n",
       "1           346           0.346            654            0.654   \n",
       "2           348           0.348            652            0.652   \n",
       "3           323           0.323            677            0.677   \n",
       "4           348           0.348            652            0.652   \n",
       "\n",
       "   Switch_Car_Num  Switch_Goat_Num  Switch_Goat_Proba  Swtich_Car_Proba  \n",
       "0             700              300              0.300             0.700  \n",
       "1             654              346              0.346             0.654  \n",
       "2             652              348              0.348             0.652  \n",
       "3             677              323              0.323             0.677  \n",
       "4             652              348              0.348             0.652  "
      ]
     },
     "execution_count": 9,
     "metadata": {},
     "output_type": "execute_result"
    }
   ],
   "source": [
    "def MontyHallRealizations(n_realizations, n_contestants):\n",
    "    Stay_GoatWin_ProbaList = []\n",
    "    Stay_CarWin_ProbaList = []\n",
    "    \n",
    "    Switch_GoatWin_ProbaList = []\n",
    "    Switch_CarWin_ProbaList = []\n",
    "\n",
    "    Stay_GoatDoorList = []\n",
    "    Stay_CarDoorList= []\n",
    "\n",
    "    Switch_GoatDoorList = []\n",
    "    Switch_CarDoorList= []\n",
    "\n",
    "    for i in range(n_realizations):\n",
    "        MontyDict = MontyHall(n_contestants)\n",
    "    \n",
    "        Stay_GoatWin_ProbaList.append(MontyDict['GoatCar_Stay_Probas'][0])\n",
    "        Stay_CarWin_ProbaList.append(MontyDict['GoatCar_Stay_Probas'][1])\n",
    "        \n",
    "        Switch_GoatWin_ProbaList.append(MontyDict['GoatCar_Switch_Probas'][0])\n",
    "        Switch_CarWin_ProbaList.append(MontyDict['GoatCar_Switch_Probas'][1])        \n",
    "    \n",
    "        Stay_GoatDoorList.append(MontyDict['StayResults'][0][1] + MontyDict['StayResults'][2][1])\n",
    "        Stay_CarDoorList.append(MontyDict['StayResults'][1][1])\n",
    "    \n",
    "        Switch_GoatDoorList.append(MontyDict['SwitchResults'][0][1] + MontyDict['SwitchResults'][2][1])\n",
    "        Switch_CarDoorList.append(MontyDict['SwitchResults'][1][1])\n",
    "\n",
    "    MontyRealizations = pd.DataFrame(data={'Stay_Goat_Proba' : Stay_GoatWin_ProbaList,\n",
    "                                           'Stay_Car_Proba' : Stay_CarWin_ProbaList,\n",
    "                                           'Switch_Goat_Proba' : Switch_GoatWin_ProbaList,\n",
    "                                           'Swtich_Car_Proba' : Switch_CarWin_ProbaList,\n",
    "                                           'Stay_Goat_Num' : Stay_GoatDoorList,\n",
    "                                           'Stay_Car_Num' : Stay_CarDoorList,\n",
    "                                           'Switch_Goat_Num' : Switch_GoatDoorList,\n",
    "                                           'Switch_Car_Num' : Switch_CarDoorList})\n",
    "    return MontyRealizations\n",
    "\n",
    "MontyRealizations =  MontyHallRealizations(10000, 1000)\n",
    "MontyRealizations.head()"
   ]
  },
  {
   "cell_type": "markdown",
   "metadata": {},
   "source": [
    "#### Plotting Distributions"
   ]
  },
  {
   "cell_type": "code",
   "execution_count": 10,
   "metadata": {},
   "outputs": [
    {
     "data": {
      "image/png": "[encoded data removed]",
      "text/plain": [
       "<matplotlib.figure.Figure at 0x28dab813eb8>"
      ]
     },
     "metadata": {},
     "output_type": "display_data"
    },
    {
     "data": {
      "image/png": "[encoded data removed]",
      "text/plain": [
       "<matplotlib.figure.Figure at 0x28dab8deeb8>"
      ]
     },
     "metadata": {},
     "output_type": "display_data"
    },
    {
     "data": {
      "text/html": [
       "<div>\n",
       "<style>\n",
       "    .dataframe thead tr:only-child th {\n",
       "        text-align: right;\n",
       "    }\n",
       "\n",
       "    .dataframe thead th {\n",
       "        text-align: left;\n",
       "    }\n",
       "\n",
       "    .dataframe tbody tr th {\n",
       "        vertical-align: top;\n",
       "    }\n",
       "</style>\n",
       "<table border=\"1\" class=\"dataframe\">\n",
       "  <thead>\n",
       "    <tr style=\"text-align: right;\">\n",
       "      <th></th>\n",
       "      <th>Stay_Car_Num</th>\n",
       "      <th>Stay_Car_Proba</th>\n",
       "      <th>Stay_Goat_Num</th>\n",
       "      <th>Stay_Goat_Proba</th>\n",
       "      <th>Switch_Car_Num</th>\n",
       "      <th>Switch_Goat_Num</th>\n",
       "      <th>Switch_Goat_Proba</th>\n",
       "      <th>Swtich_Car_Proba</th>\n",
       "    </tr>\n",
       "  </thead>\n",
       "  <tbody>\n",
       "    <tr>\n",
       "      <th>count</th>\n",
       "      <td>10000.000000</td>\n",
       "      <td>10000.000000</td>\n",
       "      <td>10000.000000</td>\n",
       "      <td>10000.000000</td>\n",
       "      <td>10000.000000</td>\n",
       "      <td>10000.000000</td>\n",
       "      <td>10000.000000</td>\n",
       "      <td>10000.000000</td>\n",
       "    </tr>\n",
       "    <tr>\n",
       "      <th>mean</th>\n",
       "      <td>333.458000</td>\n",
       "      <td>0.333458</td>\n",
       "      <td>666.542000</td>\n",
       "      <td>0.666542</td>\n",
       "      <td>666.542000</td>\n",
       "      <td>333.458000</td>\n",
       "      <td>0.333458</td>\n",
       "      <td>0.666542</td>\n",
       "    </tr>\n",
       "    <tr>\n",
       "      <th>std</th>\n",
       "      <td>15.033098</td>\n",
       "      <td>0.015033</td>\n",
       "      <td>15.033098</td>\n",
       "      <td>0.015033</td>\n",
       "      <td>15.033098</td>\n",
       "      <td>15.033098</td>\n",
       "      <td>0.015033</td>\n",
       "      <td>0.015033</td>\n",
       "    </tr>\n",
       "    <tr>\n",
       "      <th>min</th>\n",
       "      <td>280.000000</td>\n",
       "      <td>0.280000</td>\n",
       "      <td>606.000000</td>\n",
       "      <td>0.606000</td>\n",
       "      <td>606.000000</td>\n",
       "      <td>280.000000</td>\n",
       "      <td>0.280000</td>\n",
       "      <td>0.606000</td>\n",
       "    </tr>\n",
       "    <tr>\n",
       "      <th>25%</th>\n",
       "      <td>323.000000</td>\n",
       "      <td>0.323000</td>\n",
       "      <td>656.000000</td>\n",
       "      <td>0.656000</td>\n",
       "      <td>656.000000</td>\n",
       "      <td>323.000000</td>\n",
       "      <td>0.323000</td>\n",
       "      <td>0.656000</td>\n",
       "    </tr>\n",
       "    <tr>\n",
       "      <th>50%</th>\n",
       "      <td>333.000000</td>\n",
       "      <td>0.333000</td>\n",
       "      <td>667.000000</td>\n",
       "      <td>0.667000</td>\n",
       "      <td>667.000000</td>\n",
       "      <td>333.000000</td>\n",
       "      <td>0.333000</td>\n",
       "      <td>0.667000</td>\n",
       "    </tr>\n",
       "    <tr>\n",
       "      <th>75%</th>\n",
       "      <td>344.000000</td>\n",
       "      <td>0.344000</td>\n",
       "      <td>677.000000</td>\n",
       "      <td>0.677000</td>\n",
       "      <td>677.000000</td>\n",
       "      <td>344.000000</td>\n",
       "      <td>0.344000</td>\n",
       "      <td>0.677000</td>\n",
       "    </tr>\n",
       "    <tr>\n",
       "      <th>max</th>\n",
       "      <td>394.000000</td>\n",
       "      <td>0.394000</td>\n",
       "      <td>720.000000</td>\n",
       "      <td>0.720000</td>\n",
       "      <td>720.000000</td>\n",
       "      <td>394.000000</td>\n",
       "      <td>0.394000</td>\n",
       "      <td>0.720000</td>\n",
       "    </tr>\n",
       "  </tbody>\n",
       "</table>\n",
       "</div>"
      ],
      "text/plain": [
       "       Stay_Car_Num  Stay_Car_Proba  Stay_Goat_Num  Stay_Goat_Proba  \\\n",
       "count  10000.000000    10000.000000   10000.000000     10000.000000   \n",
       "mean     333.458000        0.333458     666.542000         0.666542   \n",
       "std       15.033098        0.015033      15.033098         0.015033   \n",
       "min      280.000000        0.280000     606.000000         0.606000   \n",
       "25%      323.000000        0.323000     656.000000         0.656000   \n",
       "50%      333.000000        0.333000     667.000000         0.667000   \n",
       "75%      344.000000        0.344000     677.000000         0.677000   \n",
       "max      394.000000        0.394000     720.000000         0.720000   \n",
       "\n",
       "       Switch_Car_Num  Switch_Goat_Num  Switch_Goat_Proba  Swtich_Car_Proba  \n",
       "count    10000.000000     10000.000000       10000.000000      10000.000000  \n",
       "mean       666.542000       333.458000           0.333458          0.666542  \n",
       "std         15.033098        15.033098           0.015033          0.015033  \n",
       "min        606.000000       280.000000           0.280000          0.606000  \n",
       "25%        656.000000       323.000000           0.323000          0.656000  \n",
       "50%        667.000000       333.000000           0.333000          0.667000  \n",
       "75%        677.000000       344.000000           0.344000          0.677000  \n",
       "max        720.000000       394.000000           0.394000          0.720000  "
      ]
     },
     "execution_count": 10,
     "metadata": {},
     "output_type": "execute_result"
    }
   ],
   "source": [
    "sns.distplot(MontyRealizations['Stay_Car_Num'], color='g', label='Won Car')\n",
    "sns.distplot(MontyRealizations['Stay_Goat_Num'], color='r', label='Won Goat')\n",
    "plt.xlabel('Amount')\n",
    "plt.ylabel('Frequency')\n",
    "plt.legend()\n",
    "plt.title('10,000 Realizations of 1000 Contestants Staying\\nwith Original Door')\n",
    "plt.show()\n",
    "\n",
    "sns.distplot(MontyRealizations['Switch_Car_Num'], color='g', label='Won Car')\n",
    "sns.distplot(MontyRealizations['Switch_Goat_Num'], color='r', label='Won Goat')\n",
    "plt.xlabel('Amount')\n",
    "plt.ylabel('Frequency')\n",
    "plt.legend()\n",
    "plt.title('10,000 Realizations of 1000 Contestants Switching\\nfrom Original Door')\n",
    "plt.show()\n",
    "MontyRealizations.describe()"
   ]
  },
  {
   "cell_type": "markdown",
   "metadata": {},
   "source": [
    "#### Conclusion: Taylor from Marketing should switch when he is a contestant on the show."
   ]
  }
 ],
 "metadata": {
  "kernelspec": {
   "display_name": "Python 3",
   "language": "python",
   "name": "python3"
  },
  "language_info": {
   "codemirror_mode": {
    "name": "ipython",
    "version": 3
   },
   "file_extension": ".py",
   "mimetype": "text/x-python",
   "name": "python",
   "nbconvert_exporter": "python",
   "pygments_lexer": "ipython3",
   "version": "3.6.3"
  }
 },
 "nbformat": 4,
 "nbformat_minor": 2
}
